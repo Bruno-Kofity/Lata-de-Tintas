{
  "nbformat": 4,
  "nbformat_minor": 0,
  "metadata": {
    "colab": {
      "name": "Loja de Tintas.ipynb",
      "provenance": [],
      "collapsed_sections": [],
      "authorship_tag": "ABX9TyO8ltDPhAZKgrvCtyorh2x7",
      "include_colab_link": true
    },
    "kernelspec": {
      "name": "python3",
      "display_name": "Python 3"
    }
  },
  "cells": [
    {
      "cell_type": "markdown",
      "metadata": {
        "id": "view-in-github",
        "colab_type": "text"
      },
      "source": [
        "<a href=\"https://colab.research.google.com/github/Bruno-Kofity/Lata-de-Tintas/blob/main/Loja_de_Tintas.ipynb\" target=\"_parent\"><img src=\"https://colab.research.google.com/assets/colab-badge.svg\" alt=\"Open In Colab\"/></a>"
      ]
    },
    {
      "cell_type": "code",
      "metadata": {
        "id": "1xYmEp1H2WMZ",
        "colab": {
          "base_uri": "https://localhost:8080/"
        },
        "outputId": "e0ef1293-58f1-40a5-c2ed-d6dbdbfcf5c8"
      },
      "source": [
        "print(\"{:^40}\". format (\"Loja de Tintas KOFITY\"))\n",
        "print()\n",
        "metro = int(input(\"Qual a área em metros quadrados a ser pintada? \"))\n",
        "print()\n",
        "litro = metro/3\n",
        "tinta = litro/18\n",
        "print(\"Será necessário\", round(tinta+0.49), \"lata(s) de tinta\")\n",
        "preco = round(tinta+0.49)*80\n",
        "print(\"O preço final da(s) %.0f lata(s) de tinta é de R$ %.0f\"%(tinta+0.49, preco))"
      ],
      "execution_count": null,
      "outputs": [
        {
          "output_type": "stream",
          "name": "stdout",
          "text": [
            "         Loja de Tintas KOFITY          \n",
            "\n",
            "Qual a área em metros quadrados a ser pintada? 18\n",
            "\n",
            "Será necessário 1 lata(s) de tinta\n",
            "O preço final da(s) 1 lata(s) de tinta é de R$ 80\n"
          ]
        }
      ]
    }
  ]
}